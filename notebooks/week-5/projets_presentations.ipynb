{
 "nbformat": 4,
 "nbformat_minor": 0,
 "metadata": {
  "colab": {
   "name": "Week_1_Getting Started Google Colab.ipynb",
   "provenance": [],
   "collapsed_sections": [],
   "toc_visible": true,
   "authorship_tag": "ABX9TyPNP7m0HGJWTugeV5AxyuB7",
   "include_colab_link": true
  },
  "kernelspec": {
   "name": "python3",
   "display_name": "Python 3"
  }
 },
 "cells": [
  {
   "cell_type": "markdown",
   "metadata": {
    "id": "view-in-github",
    "colab_type": "text"
   },
   "source": [
    "<a href=\"https://colab.research.google.com/github/amjadraza/spark-ml-course/blob/main/Week_1_Getting_Started_Google_Colab.ipynb\" target=\"_parent\"><img src=\"https://colab.research.google.com/assets/colab-badge.svg\" alt=\"Open In Colab\"/></a>"
   ]
  },
  {
   "cell_type": "markdown",
   "metadata": {
    "id": "h3sh3aO2YDXX"
   },
   "source": [
    "# Welcome to the course: Machine Learning with Spark\n",
    "\n",
    "This course is offered by in collaboration of  [AI-LOUNG](http://ai-lounge.com/) & [Datafy2AI](https://www.datafy2ai.com/)\n",
    "\n",
    "Instructor: [Dr. Muhammad Amjad Raza](https://www.linkedin.com/in/amjadraza/)\n",
    "\n",
    "## Refresher:\n",
    "\n",
    "\n",
    "1.   Basic outline of the course\n",
    "2.   Lecture Schedule\n",
    "\n",
    "## Learning Objective of this Session:\n",
    "\n",
    "\n",
    "1.   Project Presentations\n",
    "\n",
    "## Judges:\n",
    "\n",
    "\n",
    "1.   TBD"
   ]
  },
  {
   "cell_type": "markdown",
   "metadata": {
    "id": "6hasCvlBY1yq",
    "pycharm": {
     "name": "#%% md\n"
    }
   },
   "source": []
  }
 ]
}