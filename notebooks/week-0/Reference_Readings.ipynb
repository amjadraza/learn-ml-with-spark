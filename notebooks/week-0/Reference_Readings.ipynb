{
  "nbformat": 4,
  "nbformat_minor": 0,
  "metadata": {
    "colab": {
      "name": "Research.ipynb",
      "provenance": [],
      "collapsed_sections": [],
      "authorship_tag": "ABX9TyP9oEUj314T24JwY5FOV0Xa",
      "include_colab_link": true
    },
    "kernelspec": {
      "name": "python3",
      "display_name": "Python 3"
    },
    "language_info": {
      "name": "python"
    }
  },
  "cells": [
    {
      "cell_type": "markdown",
      "metadata": {
        "id": "view-in-github",
        "colab_type": "text"
      },
      "source": [
        "<a href=\"https://colab.research.google.com/github/amjadraza/spark-ml-course/blob/main/Research.ipynb\" target=\"_parent\"><img src=\"https://colab.research.google.com/assets/colab-badge.svg\" alt=\"Open In Colab\"/></a>"
      ]
    },
    {
      "cell_type": "markdown",
      "metadata": {
        "id": "cwceVIE8Wylk"
      },
      "source": [
        "# **Big Data using ML and Spark**"
      ]
    },
    {
      "cell_type": "markdown",
      "metadata": {
        "id": "e4Eqp1nL_FoO"
      },
      "source": [
        "Big Data is basically used to describe data which is large, complex and hard to manage. It includes both structured and unstructured forms of data. It is a field which improvises ways to analyse, systematically extract information from or simply deal with data sets which are so huge and complex that dealing with them using the traditional data-processing application software becomes very cumbersome."
      ]
    },
    {
      "cell_type": "markdown",
      "metadata": {
        "id": "QKT9GL7Sf7x1"
      },
      "source": [
        " ### **Online Courses Available**\n",
        " Beginner level Courses\n",
        "\n",
        "- [ Introduction to spark SQL and data frames ](https://www.linkedin.com/learning/introduction-to-spark-sql-and-dataframes)\n",
        "\n",
        "\n",
        "-   [Deploying Scalable Machine Learning](https://www.linkedin.com/learning/deploying-scalable-machine-learning-for-data-science)\n",
        "-   [Spark for ML and AI](https://www.linkedin.com/learning/spark-for-machine-learning-ai)\n",
        "\n",
        "Intermediate level courses and some hands-on experience\n",
        "- [Apache Spark for ML and data Engineering  ](https://www.edx.org/course/apache-spark-for-data-engineering-and-machine-learning)  \n",
        "\n",
        "-  [Real-Time Credit Card Fraud Detection Using Spark](https://www.udemy.com/course/real-time-creditcard-fraud-detection-using-spark/)\n",
        "- [Heart Attack and Diabetics Prediction Project using Spark ](https://www.udemy.com/course/disease-prediction-2-mini-projects-in-apache-sparkml/)\n",
        "- [ Telecom Customer Churn Prediction Using Spark (ML) ](https://www.udemy.com/course/telecom-customer-churn-prediction-in-apache-spark-ml/)\n",
        "- [Scalable Machine Learning on Big Data using Apache Spark](https://www.coursera.org/learn/machine-learning-big-data-apache-spark#syllabus)\n",
        "\n",
        "- [Big Data with Pyspark](https://www.datacamp.com/tracks/big-data-with-pyspark)\n",
        "\n",
        "- [Professional Certificate in NoSQL, Big Data and Spark Fundamentals](https://www.edx.org/professional-certificate/ibm-nosql-big-data-and-spark-fundamentals)\n",
        "\n",
        "- [Apache Spark with Scala - Hands On with Big Data](https://www.udemy.com/course/apache-spark-with-scala-hands-on-with-big-data/)\n",
        "\n",
        "Specialization Courses\n",
        "- [Big Data Specialization](https://www.coursera.org/specializations/big-data)\n",
        "  \n",
        "  This specialization consists of 5 courses and a hands-on project:\n",
        "1. [Introduction to Big Data](https://www.coursera.org/specializations/big-data#courses)\n",
        "2. [Big Data Modeling and Management Systems](https://www.coursera.org/specializations/big-data#courses)\n",
        "3. [Big Data Integration and Processing](https://www.coursera.org/specializations/big-data#courses)\n",
        "4. [Machine Learning With Big Data](https://www.coursera.org/specializations/big-data#courses)\n",
        "5. [Graph Analytics for Big Data](https://www.coursera.org/specializations/big-data#courses)\n",
        "6. [Big Data - Capstone Project](https://www.coursera.org/specializations/big-data#courses)\n",
        "(Hands-on Project) \n"
      ]
    },
    {
      "cell_type": "markdown",
      "metadata": {
        "id": "Zci3wDKTnGzC"
      },
      "source": [
        "### **Github Packages Available**\n",
        "\n",
        "- [Scalable Machine Learning on Big Data using Apache Spark](https://github.com/NicoGangi5/Scalable_Machine_Learning_on_Big_Data_using_Apache_Spark)\n",
        "  \n",
        "  This package is related to the first course mentioned above. \n",
        "\n",
        "- [Awesome Spark](https://github.com/awesome-spark/awesome-spark)\n",
        "\n",
        "- [Synapse ML](https://github.com/microsoft/SynapseML)\n",
        "- [Apache Spark](https://github.com/apache/spark)\n",
        "- [ML with Apache Spark](https://github.com/PacktPublishing/Machine-Learning-with-Spark)\n",
        "- [Big Data Analytics Projects with Apache Spark, published by Packt](https://github.com/PacktPublishing/Big-Data-Analytics-Projects-with-Apache-Spark)\n",
        "\n",
        "  This Package consists of a plethora of Big Data projects based on real-world examples. One of them is based on finding the top-selling product for an e-commerce business by systematically joining the datasets in the Map/Reduce paradigm. The others are based on Market Basket Analysis, probablistic logistic regression, content-based recommendation system for movies etc. \n",
        "- [Some Big Data Projects](https://github.com/topics/big-data-analytics?o=asc&s=forks)\n",
        "\n",
        "  These are some projects which use big data analytics. Some of the projects have used SQL, CLI bash, Machine Learning, Spark and Apache Spark. They deal with real life situations such as healthcare, social media and many other regular trends followed by the general population. \n"
      ]
    },
    {
      "cell_type": "markdown",
      "metadata": {
        "id": "2liWYvU9nOzB"
      },
      "source": [
        "### **IDEs that can be used:** \n",
        "\n",
        "**Azure Notebooks:** Azure notebooks by Microsoft is very similar to Colab in terms of functionality. Azure Notebooks wins in terms of speed and is much better than Colab in this regard \n",
        "\n",
        "**Kaggle.** Kaggle is an excellent platform for deep learning applications in the cloud that uses the GPU in the cloud for free. \n",
        "\n",
        "**Amazon Sagemaker:** Amazon SageMaker is a cloud machine-learning platform that was launched in November 2017. SageMaker enables developers to create, train, and deploy machine-learning models in the cloud.\n",
        "\n",
        "**Jupyter Notebook:** Jupyter is a free, open-source, interactive web tool known as a computational notebook, which researchers can use to combine software code, computational output, explanatory text, and multimedia resources in a single document."
      ]
    },
    {
      "cell_type": "markdown",
      "metadata": {
        "id": "XD3myUTCqSLT"
      },
      "source": [
        "### **Some remarks on the new approaches of teaching Big Data**\n",
        "Big Data is a very popular field for professionals these days. However, multinational competitors have a different perspective on how the subject is to be taught. According to the new approaches, It is kept in mind that  we should teach CDO principles. Data analytics lifecycle must be kept in mind while teaching. Big Data technologies should be taught along with Model Building techniques. It is recommended to incorporate research methods in data analysis along with teaching small data analytics. Students must be provided with real-world project experience.  "
      ]
    }
  ]
}